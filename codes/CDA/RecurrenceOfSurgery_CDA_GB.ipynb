{
 "cells": [
  {
   "cell_type": "code",
   "execution_count": 7,
   "id": "42b41a78-ea44-4534-9e36-9ab54c14c8f8",
   "metadata": {
    "tags": []
   },
   "outputs": [],
   "source": [
    "import matplotlib.pyplot as plt\n",
    "import matplotlib as mpl \n",
    "mpl.rc('font',family='Malgun Gothic')\n",
    "import seaborn as sns\n",
    "import pandas as pd\n",
    "import numpy as np\n",
    "import scipy.stats as stats"
   ]
  },
  {
   "cell_type": "code",
   "execution_count": 2,
   "id": "dd33d577-50b4-4fc0-841b-d1af6ef1e0fd",
   "metadata": {
    "tags": []
   },
   "outputs": [
    {
     "data": {
      "text/html": [
       "<div>\n",
       "<style scoped>\n",
       "    .dataframe tbody tr th:only-of-type {\n",
       "        vertical-align: middle;\n",
       "    }\n",
       "\n",
       "    .dataframe tbody tr th {\n",
       "        vertical-align: top;\n",
       "    }\n",
       "\n",
       "    .dataframe thead th {\n",
       "        text-align: right;\n",
       "    }\n",
       "</style>\n",
       "<table border=\"1\" class=\"dataframe\">\n",
       "  <thead>\n",
       "    <tr style=\"text-align: right;\">\n",
       "      <th></th>\n",
       "      <th>Unnamed: 0</th>\n",
       "      <th>입원기간</th>\n",
       "      <th>직업</th>\n",
       "      <th>환자통증정도</th>\n",
       "      <th>통증기간(월)</th>\n",
       "      <th>당뇨여부</th>\n",
       "      <th>심혈관질환</th>\n",
       "      <th>암발병여부</th>\n",
       "      <th>체중</th>\n",
       "      <th>연령</th>\n",
       "      <th>신장</th>\n",
       "      <th>전방디스크높이(mm)</th>\n",
       "      <th>후방디스크높이(mm)</th>\n",
       "      <th>디스크단면적</th>\n",
       "      <th>디스크위치</th>\n",
       "      <th>PI</th>\n",
       "      <th>수술기법</th>\n",
       "    </tr>\n",
       "  </thead>\n",
       "  <tbody>\n",
       "    <tr>\n",
       "      <th>0</th>\n",
       "      <td>0</td>\n",
       "      <td>2</td>\n",
       "      <td>자영업</td>\n",
       "      <td>10</td>\n",
       "      <td>1.0</td>\n",
       "      <td>0</td>\n",
       "      <td>0</td>\n",
       "      <td>0</td>\n",
       "      <td>60.3</td>\n",
       "      <td>66</td>\n",
       "      <td>163</td>\n",
       "      <td>16.1</td>\n",
       "      <td>12.3</td>\n",
       "      <td>2048.5</td>\n",
       "      <td>4</td>\n",
       "      <td>51.6</td>\n",
       "      <td>TELD</td>\n",
       "    </tr>\n",
       "    <tr>\n",
       "      <th>1</th>\n",
       "      <td>1</td>\n",
       "      <td>1</td>\n",
       "      <td>운동선수</td>\n",
       "      <td>10</td>\n",
       "      <td>1.0</td>\n",
       "      <td>0</td>\n",
       "      <td>0</td>\n",
       "      <td>0</td>\n",
       "      <td>71.7</td>\n",
       "      <td>47</td>\n",
       "      <td>171</td>\n",
       "      <td>13.7</td>\n",
       "      <td>6.4</td>\n",
       "      <td>1753.1</td>\n",
       "      <td>4</td>\n",
       "      <td>40.8</td>\n",
       "      <td>TELD</td>\n",
       "    </tr>\n",
       "  </tbody>\n",
       "</table>\n",
       "</div>"
      ],
      "text/plain": [
       "   Unnamed: 0  입원기간    직업  환자통증정도  통증기간(월)  당뇨여부  심혈관질환  암발병여부    체중  연령   신장  \\\n",
       "0           0     2   자영업      10      1.0     0      0      0  60.3  66  163   \n",
       "1           1     1  운동선수      10      1.0     0      0      0  71.7  47  171   \n",
       "\n",
       "   전방디스크높이(mm)  후방디스크높이(mm)  디스크단면적  디스크위치    PI  수술기법  \n",
       "0         16.1         12.3  2048.5      4  51.6  TELD  \n",
       "1         13.7          6.4  1753.1      4  40.8  TELD  "
      ]
     },
     "execution_count": 2,
     "metadata": {},
     "output_type": "execute_result"
    }
   ],
   "source": [
    "df_ROS = pd.read_csv('../../dataset/RecurrenceOfSurgeryData.csv')\n",
    "df_ROS.head(2)"
   ]
  },
  {
   "cell_type": "markdown",
   "id": "c45295d0-30af-49be-acb6-0b07f7466cac",
   "metadata": {},
   "source": [
    "## 목표변수 검증"
   ]
  },
  {
   "cell_type": "markdown",
   "id": "65095a32-4069-4b14-9163-439f9eff6586",
   "metadata": {},
   "source": [
    "### Y:연속형 : 단일 변수에 대한 정규성 여부 판단\n",
    "- 검증 갯수 따른 방법 선택 (레코드 갯수)\n",
    "    - 5천개보다 이하 : shapiro normality test\n",
    "    - 5천개보다 이상 : Anderson normality test"
   ]
  },
  {
   "cell_type": "markdown",
   "id": "ab816384-48b4-45d9-9a7b-e1e5fb02f6bf",
   "metadata": {},
   "source": [
    "#### 선정 변수: 입원기간\n",
    "- 분석 내용 : 입원기간이 정규 분포를 따르는가?\n",
    "    - 귀무가설 : 입원기간이 정규 분포이다.\n",
    "    - 대립가설 : 입원기간이 정규 분포가 아니다.\n",
    "- 분석결론 (기준:p-value 0.05) / P.value < 0.05 : 대립 참\n",
    "    - 통계 결론 : pvalue=0.0이므로 대립가설 참 \n",
    "    - 사실 결론 : 입원기간이 정규 분포가 아니다."
   ]
  },
  {
   "cell_type": "code",
   "execution_count": 3,
   "id": "21b9e7ed-7cad-46e7-bf84-4081872dc6bd",
   "metadata": {
    "tags": []
   },
   "outputs": [
    {
     "data": {
      "image/png": "[encoded data removed]",
      "text/plain": [
       "<Figure size 640x480 with 1 Axes>"
      ]
     },
     "metadata": {},
     "output_type": "display_data"
    }
   ],
   "source": [
    "sns.histplot(data=df_ROS, x='입원기간', kde=True)\n",
    "plt.show()"
   ]
  },
  {
   "cell_type": "code",
   "execution_count": 5,
   "id": "eda72c73-e5b0-4597-8e12-da5af138093d",
   "metadata": {
    "tags": []
   },
   "outputs": [
    {
     "data": {
      "text/plain": [
       "1405"
      ]
     },
     "execution_count": 5,
     "metadata": {},
     "output_type": "execute_result"
    }
   ],
   "source": [
    "#df_ROS['입원기간'].isnull().sum()\n",
    "df_ROS['입원기간'].count()"
   ]
  },
  {
   "cell_type": "code",
   "execution_count": 9,
   "id": "3a7045bb-d529-442a-82ea-6dfc5e33922d",
   "metadata": {
    "tags": []
   },
   "outputs": [
    {
     "data": {
      "text/plain": [
       "ShapiroResult(statistic=0.26717329025268555, pvalue=0.0)"
      ]
     },
     "execution_count": 9,
     "metadata": {},
     "output_type": "execute_result"
    }
   ],
   "source": [
    "stats.shapiro(df_ROS['입원기간'])\n",
    "\n",
    "## statistic=0.2671 pvalue=0.0 -> 0.05이하로 대립가설 참 "
   ]
  },
  {
   "cell_type": "markdown",
   "id": "56fe80d1-bbfc-467f-b95d-f8bd9cbc2359",
   "metadata": {},
   "source": [
    "## 설명변수 검증\n",
    "- '체중', '연령', '신장', '전방디스크높이(mm)', '후방디스크높이(mm)', '디스크단면적','디스크위치', 'PI'"
   ]
  },
  {
   "cell_type": "markdown",
   "id": "198f3f3a-892d-482d-a6d0-7c48acb435c3",
   "metadata": {},
   "source": [
    "### X:연속형 / Y:연속형 : 주로 상관관계 확인 \n",
    "- correlation coefficient(상관계수)\n",
    "    - -1 ~ 1  \n",
    "    - 0에 가까우면 관계없음, -1로 갈수록 반비례, 1로 갈수로 정비례"
   ]
  },
  {
   "cell_type": "code",
   "execution_count": 13,
   "id": "e6e9788b-baaa-42b0-b0dc-e288fa208f68",
   "metadata": {
    "tags": []
   },
   "outputs": [
    {
     "data": {
      "text/html": [
       "<div>\n",
       "<style scoped>\n",
       "    .dataframe tbody tr th:only-of-type {\n",
       "        vertical-align: middle;\n",
       "    }\n",
       "\n",
       "    .dataframe tbody tr th {\n",
       "        vertical-align: top;\n",
       "    }\n",
       "\n",
       "    .dataframe thead th {\n",
       "        text-align: right;\n",
       "    }\n",
       "</style>\n",
       "<table border=\"1\" class=\"dataframe\">\n",
       "  <thead>\n",
       "    <tr style=\"text-align: right;\">\n",
       "      <th></th>\n",
       "      <th>입원기간</th>\n",
       "      <th>체중</th>\n",
       "      <th>연령</th>\n",
       "      <th>신장</th>\n",
       "      <th>전방디스크높이(mm)</th>\n",
       "      <th>후방디스크높이(mm)</th>\n",
       "      <th>디스크단면적</th>\n",
       "      <th>디스크위치</th>\n",
       "      <th>PI</th>\n",
       "    </tr>\n",
       "  </thead>\n",
       "  <tbody>\n",
       "    <tr>\n",
       "      <th>count</th>\n",
       "      <td>1405.000000</td>\n",
       "      <td>1405.000000</td>\n",
       "      <td>1405.000000</td>\n",
       "      <td>1405.000000</td>\n",
       "      <td>1405.000000</td>\n",
       "      <td>1405.000000</td>\n",
       "      <td>1405.000000</td>\n",
       "      <td>1405.000000</td>\n",
       "      <td>1405.000000</td>\n",
       "    </tr>\n",
       "    <tr>\n",
       "      <th>mean</th>\n",
       "      <td>1.720285</td>\n",
       "      <td>68.250819</td>\n",
       "      <td>40.015658</td>\n",
       "      <td>168.148043</td>\n",
       "      <td>11.360370</td>\n",
       "      <td>8.368192</td>\n",
       "      <td>1987.863423</td>\n",
       "      <td>4.525979</td>\n",
       "      <td>46.519715</td>\n",
       "    </tr>\n",
       "    <tr>\n",
       "      <th>std</th>\n",
       "      <td>2.218973</td>\n",
       "      <td>11.275908</td>\n",
       "      <td>13.374553</td>\n",
       "      <td>9.179564</td>\n",
       "      <td>2.909581</td>\n",
       "      <td>4.796379</td>\n",
       "      <td>308.791888</td>\n",
       "      <td>4.036717</td>\n",
       "      <td>21.737232</td>\n",
       "    </tr>\n",
       "    <tr>\n",
       "      <th>min</th>\n",
       "      <td>0.000000</td>\n",
       "      <td>35.000000</td>\n",
       "      <td>15.000000</td>\n",
       "      <td>140.000000</td>\n",
       "      <td>1.270000</td>\n",
       "      <td>1.000000</td>\n",
       "      <td>1145.800000</td>\n",
       "      <td>2.000000</td>\n",
       "      <td>11.900000</td>\n",
       "    </tr>\n",
       "    <tr>\n",
       "      <th>25%</th>\n",
       "      <td>1.000000</td>\n",
       "      <td>60.000000</td>\n",
       "      <td>30.000000</td>\n",
       "      <td>161.000000</td>\n",
       "      <td>9.500000</td>\n",
       "      <td>7.060000</td>\n",
       "      <td>1777.890000</td>\n",
       "      <td>4.000000</td>\n",
       "      <td>38.600000</td>\n",
       "    </tr>\n",
       "    <tr>\n",
       "      <th>50%</th>\n",
       "      <td>1.000000</td>\n",
       "      <td>68.000000</td>\n",
       "      <td>39.000000</td>\n",
       "      <td>169.000000</td>\n",
       "      <td>11.200000</td>\n",
       "      <td>8.300000</td>\n",
       "      <td>1992.260000</td>\n",
       "      <td>4.000000</td>\n",
       "      <td>45.100000</td>\n",
       "    </tr>\n",
       "    <tr>\n",
       "      <th>75%</th>\n",
       "      <td>2.000000</td>\n",
       "      <td>75.000000</td>\n",
       "      <td>47.000000</td>\n",
       "      <td>175.000000</td>\n",
       "      <td>13.200000</td>\n",
       "      <td>9.500000</td>\n",
       "      <td>2174.800000</td>\n",
       "      <td>4.000000</td>\n",
       "      <td>51.900000</td>\n",
       "    </tr>\n",
       "    <tr>\n",
       "      <th>max</th>\n",
       "      <td>46.000000</td>\n",
       "      <td>136.100000</td>\n",
       "      <td>86.000000</td>\n",
       "      <td>204.000000</td>\n",
       "      <td>22.500000</td>\n",
       "      <td>101.000000</td>\n",
       "      <td>3166.140000</td>\n",
       "      <td>45.000000</td>\n",
       "      <td>559.000000</td>\n",
       "    </tr>\n",
       "  </tbody>\n",
       "</table>\n",
       "</div>"
      ],
      "text/plain": [
       "              입원기간           체중           연령           신장  전방디스크높이(mm)  \\\n",
       "count  1405.000000  1405.000000  1405.000000  1405.000000  1405.000000   \n",
       "mean      1.720285    68.250819    40.015658   168.148043    11.360370   \n",
       "std       2.218973    11.275908    13.374553     9.179564     2.909581   \n",
       "min       0.000000    35.000000    15.000000   140.000000     1.270000   \n",
       "25%       1.000000    60.000000    30.000000   161.000000     9.500000   \n",
       "50%       1.000000    68.000000    39.000000   169.000000    11.200000   \n",
       "75%       2.000000    75.000000    47.000000   175.000000    13.200000   \n",
       "max      46.000000   136.100000    86.000000   204.000000    22.500000   \n",
       "\n",
       "       후방디스크높이(mm)       디스크단면적        디스크위치           PI  \n",
       "count  1405.000000  1405.000000  1405.000000  1405.000000  \n",
       "mean      8.368192  1987.863423     4.525979    46.519715  \n",
       "std       4.796379   308.791888     4.036717    21.737232  \n",
       "min       1.000000  1145.800000     2.000000    11.900000  \n",
       "25%       7.060000  1777.890000     4.000000    38.600000  \n",
       "50%       8.300000  1992.260000     4.000000    45.100000  \n",
       "75%       9.500000  2174.800000     4.000000    51.900000  \n",
       "max     101.000000  3166.140000    45.000000   559.000000  "
      ]
     },
     "execution_count": 13,
     "metadata": {},
     "output_type": "execute_result"
    }
   ],
   "source": [
    "df_ROS[['입원기간','체중', '연령', '신장', '전방디스크높이(mm)', '후방디스크높이(mm)', '디스크단면적','디스크위치', 'PI']].describe()\n",
    "\n",
    "# count \n",
    "# mean : 연속형이라는 증거 "
   ]
  },
  {
   "cell_type": "markdown",
   "id": "017c48cb-6205-4e13-9d3d-7973b232da75",
   "metadata": {},
   "source": [
    "#### 선정 변수: 입원기간, 연령\n",
    "- 분석 내용 : 연령에 따라서 입원기간 변화가 있는가?\n",
    "    - 귀무가설 : 연령에 따라서 입원기간 변화가 없다.\n",
    "    - 대립가설 : 연령에 따라서 입원기간 변화가 있다.\n",
    "- 분석결론 (기준:p-value 0.05) / P.value < 0.05 : 대립 참\n",
    "    - 통계 결론 : 대립가설 참, 상관계수 관계 없음 \n",
    "    - 사실 결론 : 연령에 따라서 입원기간 변화가 있다.(statistic=0.0895, pvalue=0.00078)"
   ]
  },
  {
   "cell_type": "code",
   "execution_count": 19,
   "id": "a5a910f2-bb8b-4554-b7b6-1d5705f93bd9",
   "metadata": {
    "tags": []
   },
   "outputs": [
    {
     "data": {
      "text/html": [
       "<div>\n",
       "<style scoped>\n",
       "    .dataframe tbody tr th:only-of-type {\n",
       "        vertical-align: middle;\n",
       "    }\n",
       "\n",
       "    .dataframe tbody tr th {\n",
       "        vertical-align: top;\n",
       "    }\n",
       "\n",
       "    .dataframe thead th {\n",
       "        text-align: right;\n",
       "    }\n",
       "</style>\n",
       "<table border=\"1\" class=\"dataframe\">\n",
       "  <thead>\n",
       "    <tr style=\"text-align: right;\">\n",
       "      <th></th>\n",
       "      <th>입원기간</th>\n",
       "      <th>연령</th>\n",
       "    </tr>\n",
       "  </thead>\n",
       "  <tbody>\n",
       "    <tr>\n",
       "      <th>입원기간</th>\n",
       "      <td>1.000000</td>\n",
       "      <td>0.079106</td>\n",
       "    </tr>\n",
       "    <tr>\n",
       "      <th>연령</th>\n",
       "      <td>0.079106</td>\n",
       "      <td>1.000000</td>\n",
       "    </tr>\n",
       "  </tbody>\n",
       "</table>\n",
       "</div>"
      ],
      "text/plain": [
       "          입원기간        연령\n",
       "입원기간  1.000000  0.079106\n",
       "연령    0.079106  1.000000"
      ]
     },
     "execution_count": 19,
     "metadata": {},
     "output_type": "execute_result"
    }
   ],
   "source": [
    "df_ROS[['입원기간','연령']].corr()"
   ]
  },
  {
   "cell_type": "code",
   "execution_count": 21,
   "id": "b53a70c3-aa90-4983-b582-b6e9e34798c0",
   "metadata": {
    "tags": []
   },
   "outputs": [
    {
     "data": {
      "text/plain": [
       "SignificanceResult(statistic=0.08952142152561518, pvalue=0.0007813424353133282)"
      ]
     },
     "execution_count": 21,
     "metadata": {},
     "output_type": "execute_result"
    }
   ],
   "source": [
    "stats.spearmanr(df_ROS['입원기간'],df_ROS['연령'] )\n",
    "\n",
    "## statistic=0.0895, pvalue=0.00078 -> 대립참, 상관계수 관계 없음 "
   ]
  },
  {
   "cell_type": "markdown",
   "id": "8b8d4e55-3bcd-4e2b-aa33-15463d7a08d5",
   "metadata": {
    "tags": []
   },
   "source": [
    "#### 선정 변수: 입원기간, 체중\n",
    "- 분석 내용 : 체중에 따라서 입원기간 변화가 있는가?\n",
    "    - 귀무가설 : 체중에 따라서 입원기간 변화가 없다.\n",
    "    - 대립가설 : 체중에 따라서 입원기간 변화가 있다.\n",
    "- 분석결론 (기준:p-value 0.05) / P.value < 0.05 : 대립 참\n",
    "    - 통계 결론 : 귀무가설 참, 상관계수 관계 없음 \n",
    "    - 사실 결론 : 체중에 따라서 입원기간 변화가 없다.(statistic=0.97, pvalue=0.0)"
   ]
  },
  {
   "cell_type": "code",
   "execution_count": 18,
   "id": "c8887cfe-0a09-4dd2-b08c-ac75cf2e4774",
   "metadata": {
    "tags": []
   },
   "outputs": [
    {
     "data": {
      "text/html": [
       "<div>\n",
       "<style scoped>\n",
       "    .dataframe tbody tr th:only-of-type {\n",
       "        vertical-align: middle;\n",
       "    }\n",
       "\n",
       "    .dataframe tbody tr th {\n",
       "        vertical-align: top;\n",
       "    }\n",
       "\n",
       "    .dataframe thead th {\n",
       "        text-align: right;\n",
       "    }\n",
       "</style>\n",
       "<table border=\"1\" class=\"dataframe\">\n",
       "  <thead>\n",
       "    <tr style=\"text-align: right;\">\n",
       "      <th></th>\n",
       "      <th>입원기간</th>\n",
       "      <th>체중</th>\n",
       "    </tr>\n",
       "  </thead>\n",
       "  <tbody>\n",
       "    <tr>\n",
       "      <th>입원기간</th>\n",
       "      <td>1.000000</td>\n",
       "      <td>-0.047024</td>\n",
       "    </tr>\n",
       "    <tr>\n",
       "      <th>체중</th>\n",
       "      <td>-0.047024</td>\n",
       "      <td>1.000000</td>\n",
       "    </tr>\n",
       "  </tbody>\n",
       "</table>\n",
       "</div>"
      ],
      "text/plain": [
       "          입원기간        체중\n",
       "입원기간  1.000000 -0.047024\n",
       "체중   -0.047024  1.000000"
      ]
     },
     "execution_count": 18,
     "metadata": {},
     "output_type": "execute_result"
    }
   ],
   "source": [
    "df_ROS[['입원기간','체중']].corr()"
   ]
  },
  {
   "cell_type": "code",
   "execution_count": 15,
   "id": "5408392d-9054-4d92-a8d3-ed7df50b65c7",
   "metadata": {
    "tags": []
   },
   "outputs": [
    {
     "data": {
      "text/plain": [
       "SignificanceResult(statistic=-0.0038167036681734214, pvalue=0.8863407659962348)"
      ]
     },
     "execution_count": 15,
     "metadata": {},
     "output_type": "execute_result"
    }
   ],
   "source": [
    "# 컬럼 중 하나라도 비정규 분포이면 사용\n",
    "# statistic : 상관계수값 # pvalue : 현재 대립이 참 \n",
    "stats.spearmanr(df_ROS['입원기간'],df_ROS['체중'] )\n",
    "\n",
    "##  statistic=-0.003816, pvalue=0.8863 ->  statistic=-0.003816의 값으로 0에 가까움에 따라 관계 없음,  pvalue=0.8863으로 귀무가설 참 "
   ]
  },
  {
   "cell_type": "code",
   "execution_count": 16,
   "id": "4b26f8fb-70c0-4a08-970b-df74d50d6adb",
   "metadata": {
    "tags": []
   },
   "outputs": [
    {
     "data": {
      "text/plain": [
       "PearsonRResult(statistic=-0.04702411210531448, pvalue=0.07806486259062116)"
      ]
     },
     "execution_count": 16,
     "metadata": {},
     "output_type": "execute_result"
    }
   ],
   "source": [
    "stats.pearsonr(df_ROS['입원기간'],df_ROS['체중'] )"
   ]
  }
 ],
 "metadata": {
  "kernelspec": {
   "display_name": "Python 3 (ipykernel)",
   "language": "python",
   "name": "python3"
  },
  "language_info": {
   "codemirror_mode": {
    "name": "ipython",
    "version": 3
   },
   "file_extension": ".py",
   "mimetype": "text/x-python",
   "name": "python",
   "nbconvert_exporter": "python",
   "pygments_lexer": "ipython3",
   "version": "3.11.3"
  }
 },
 "nbformat": 4,
 "nbformat_minor": 5
}
