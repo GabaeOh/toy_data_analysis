{
 "cells": [
  {
   "cell_type": "code",
   "execution_count": 1,
   "id": "cdf4371d-ae43-4d63-9c49-fdfd93c7d4ea",
   "metadata": {
    "tags": []
   },
   "outputs": [],
   "source": [
    "import matplotlib.pyplot as plt\n",
    "import matplotlib as mpl\n",
    "mpl.rc('font',family='Malgun Gothic')\n",
    "import seaborn as sns\n",
    "import pandas as pd\n",
    "import scipy.stats as stats"
   ]
  },
  {
   "cell_type": "code",
   "execution_count": 2,
   "id": "863baa0c-7d49-44e8-bf74-2733580623d9",
   "metadata": {
    "tags": []
   },
   "outputs": [
    {
     "data": {
      "text/html": [
       "<div>\n",
       "<style scoped>\n",
       "    .dataframe tbody tr th:only-of-type {\n",
       "        vertical-align: middle;\n",
       "    }\n",
       "\n",
       "    .dataframe tbody tr th {\n",
       "        vertical-align: top;\n",
       "    }\n",
       "\n",
       "    .dataframe thead th {\n",
       "        text-align: right;\n",
       "    }\n",
       "</style>\n",
       "<table border=\"1\" class=\"dataframe\">\n",
       "  <thead>\n",
       "    <tr style=\"text-align: right;\">\n",
       "      <th></th>\n",
       "      <th>Unnamed: 0</th>\n",
       "      <th>입원기간</th>\n",
       "      <th>직업</th>\n",
       "      <th>환자통증정도</th>\n",
       "      <th>통증기간(월)</th>\n",
       "      <th>당뇨여부</th>\n",
       "      <th>심혈관질환</th>\n",
       "      <th>암발병여부</th>\n",
       "      <th>체중</th>\n",
       "      <th>연령</th>\n",
       "      <th>신장</th>\n",
       "      <th>전방디스크높이(mm)</th>\n",
       "      <th>후방디스크높이(mm)</th>\n",
       "      <th>디스크단면적</th>\n",
       "      <th>디스크위치</th>\n",
       "      <th>PI</th>\n",
       "      <th>수술기법</th>\n",
       "    </tr>\n",
       "  </thead>\n",
       "  <tbody>\n",
       "    <tr>\n",
       "      <th>0</th>\n",
       "      <td>0</td>\n",
       "      <td>2</td>\n",
       "      <td>자영업</td>\n",
       "      <td>10</td>\n",
       "      <td>1.0</td>\n",
       "      <td>0</td>\n",
       "      <td>0</td>\n",
       "      <td>0</td>\n",
       "      <td>60.3</td>\n",
       "      <td>66</td>\n",
       "      <td>163</td>\n",
       "      <td>16.1</td>\n",
       "      <td>12.3</td>\n",
       "      <td>2048.5</td>\n",
       "      <td>4</td>\n",
       "      <td>51.6</td>\n",
       "      <td>TELD</td>\n",
       "    </tr>\n",
       "    <tr>\n",
       "      <th>1</th>\n",
       "      <td>1</td>\n",
       "      <td>1</td>\n",
       "      <td>운동선수</td>\n",
       "      <td>10</td>\n",
       "      <td>1.0</td>\n",
       "      <td>0</td>\n",
       "      <td>0</td>\n",
       "      <td>0</td>\n",
       "      <td>71.7</td>\n",
       "      <td>47</td>\n",
       "      <td>171</td>\n",
       "      <td>13.7</td>\n",
       "      <td>6.4</td>\n",
       "      <td>1753.1</td>\n",
       "      <td>4</td>\n",
       "      <td>40.8</td>\n",
       "      <td>TELD</td>\n",
       "    </tr>\n",
       "  </tbody>\n",
       "</table>\n",
       "</div>"
      ],
      "text/plain": [
       "   Unnamed: 0  입원기간    직업  환자통증정도  통증기간(월)  당뇨여부  심혈관질환  암발병여부    체중  연령   신장  \\\n",
       "0           0     2   자영업      10      1.0     0      0      0  60.3  66  163   \n",
       "1           1     1  운동선수      10      1.0     0      0      0  71.7  47  171   \n",
       "\n",
       "   전방디스크높이(mm)  후방디스크높이(mm)  디스크단면적  디스크위치    PI  수술기법  \n",
       "0         16.1         12.3  2048.5      4  51.6  TELD  \n",
       "1         13.7          6.4  1753.1      4  40.8  TELD  "
      ]
     },
     "execution_count": 2,
     "metadata": {},
     "output_type": "execute_result"
    }
   ],
   "source": [
    "df_ROS = pd.read_csv('../../dataset/RecurrenceOfSurgeryData.csv')\n",
    "df_ROS.head(2)"
   ]
  },
  {
   "cell_type": "code",
   "execution_count": 3,
   "id": "354b67b6-676d-449d-a9a2-ca1e15b91640",
   "metadata": {
    "tags": []
   },
   "outputs": [
    {
     "data": {
      "text/html": [
       "<div>\n",
       "<style scoped>\n",
       "    .dataframe tbody tr th:only-of-type {\n",
       "        vertical-align: middle;\n",
       "    }\n",
       "\n",
       "    .dataframe tbody tr th {\n",
       "        vertical-align: top;\n",
       "    }\n",
       "\n",
       "    .dataframe thead th {\n",
       "        text-align: right;\n",
       "    }\n",
       "</style>\n",
       "<table border=\"1\" class=\"dataframe\">\n",
       "  <thead>\n",
       "    <tr style=\"text-align: right;\">\n",
       "      <th></th>\n",
       "      <th>입원기간</th>\n",
       "      <th>직업</th>\n",
       "      <th>환자통증정도</th>\n",
       "      <th>통증기간(월)</th>\n",
       "      <th>당뇨여부</th>\n",
       "      <th>심혈관질환</th>\n",
       "      <th>암발병여부</th>\n",
       "    </tr>\n",
       "  </thead>\n",
       "  <tbody>\n",
       "    <tr>\n",
       "      <th>0</th>\n",
       "      <td>2</td>\n",
       "      <td>자영업</td>\n",
       "      <td>10</td>\n",
       "      <td>1.0</td>\n",
       "      <td>0</td>\n",
       "      <td>0</td>\n",
       "      <td>0</td>\n",
       "    </tr>\n",
       "    <tr>\n",
       "      <th>1</th>\n",
       "      <td>1</td>\n",
       "      <td>운동선수</td>\n",
       "      <td>10</td>\n",
       "      <td>1.0</td>\n",
       "      <td>0</td>\n",
       "      <td>0</td>\n",
       "      <td>0</td>\n",
       "    </tr>\n",
       "  </tbody>\n",
       "</table>\n",
       "</div>"
      ],
      "text/plain": [
       "   입원기간    직업  환자통증정도  통증기간(월)  당뇨여부  심혈관질환  암발병여부\n",
       "0     2   자영업      10      1.0     0      0      0\n",
       "1     1  운동선수      10      1.0     0      0      0"
      ]
     },
     "execution_count": 3,
     "metadata": {},
     "output_type": "execute_result"
    }
   ],
   "source": [
    "df_ROS_SKY = df_ROS[['입원기간','직업','환자통증정도','통증기간(월)','당뇨여부','심혈관질환','암발병여부']]\n",
    "df_ROS_SKY[:2]"
   ]
  },
  {
   "cell_type": "code",
   "execution_count": 4,
   "id": "d7324e07-c773-464d-af90-407cee9144d1",
   "metadata": {
    "tags": []
   },
   "outputs": [
    {
     "name": "stderr",
     "output_type": "stream",
     "text": [
      "C:\\Users\\01-09\\AppData\\Local\\Temp\\ipykernel_7576\\139356218.py:1: SettingWithCopyWarning: \n",
      "A value is trying to be set on a copy of a slice from a DataFrame.\n",
      "Try using .loc[row_indexer,col_indexer] = value instead\n",
      "\n",
      "See the caveats in the documentation: https://pandas.pydata.org/pandas-docs/stable/user_guide/indexing.html#returning-a-view-versus-a-copy\n",
      "  df_ROS_SKY[['당뇨여부','심혈관질환','암발병여부']] = df_ROS_SKY[['당뇨여부','심혈관질환','암발병여부']].astype(str)\n"
     ]
    }
   ],
   "source": [
    "df_ROS_SKY[['당뇨여부','심혈관질환','암발병여부']] = df_ROS_SKY[['당뇨여부','심혈관질환','암발병여부']].astype(str)"
   ]
  },
  {
   "cell_type": "code",
   "execution_count": 5,
   "id": "16d3540b-5936-4deb-9d2f-813616461fd9",
   "metadata": {
    "tags": []
   },
   "outputs": [
    {
     "name": "stdout",
     "output_type": "stream",
     "text": [
      "<class 'pandas.core.frame.DataFrame'>\n",
      "RangeIndex: 1405 entries, 0 to 1404\n",
      "Data columns (total 7 columns):\n",
      " #   Column   Non-Null Count  Dtype  \n",
      "---  ------   --------------  -----  \n",
      " 0   입원기간     1405 non-null   int64  \n",
      " 1   직업       1405 non-null   object \n",
      " 2   환자통증정도   1405 non-null   int64  \n",
      " 3   통증기간(월)  1405 non-null   float64\n",
      " 4   당뇨여부     1405 non-null   object \n",
      " 5   심혈관질환    1405 non-null   object \n",
      " 6   암발병여부    1405 non-null   object \n",
      "dtypes: float64(1), int64(2), object(4)\n",
      "memory usage: 77.0+ KB\n"
     ]
    }
   ],
   "source": [
    "df_ROS_SKY.info()"
   ]
  },
  {
   "cell_type": "markdown",
   "id": "cad373cd-8c4b-41a6-91ef-1f4d23aa2712",
   "metadata": {},
   "source": [
    "## - 목표변수(Y) : 입원기간\n",
    "## - 설명변수 (X) : 직업, 환자통증정도, 통증기간(월), 당뇨여부, 심혈관질환, 암발병여부"
   ]
  },
  {
   "cell_type": "markdown",
   "id": "d2b573e3-26a6-41f5-9893-85b787050205",
   "metadata": {},
   "source": [
    "### 선정변수 : 직업, 입원기간 (범주형 / 연속형)\n",
    " - 분석내용 : 직업에 따라 입원기간에 차이가 있는가?\n",
    "   - 귀무가설 : 직업에 따라 입원기간에 차이가 없다.\n",
    "   - 대립가설 : 직업에 따라 입원기간에 차이가 있다.\n",
    "   \n",
    " - 분설 결론 :"
   ]
  },
  {
   "cell_type": "code",
   "execution_count": 6,
   "id": "8526bf7d-0378-4563-bb94-82e61f51aa58",
   "metadata": {
    "tags": []
   },
   "outputs": [
    {
     "data": {
      "text/html": [
       "<div>\n",
       "<style scoped>\n",
       "    .dataframe tbody tr th:only-of-type {\n",
       "        vertical-align: middle;\n",
       "    }\n",
       "\n",
       "    .dataframe tbody tr th {\n",
       "        vertical-align: top;\n",
       "    }\n",
       "\n",
       "    .dataframe thead th {\n",
       "        text-align: right;\n",
       "    }\n",
       "</style>\n",
       "<table border=\"1\" class=\"dataframe\">\n",
       "  <thead>\n",
       "    <tr style=\"text-align: right;\">\n",
       "      <th></th>\n",
       "      <th>입원기간</th>\n",
       "    </tr>\n",
       "  </thead>\n",
       "  <tbody>\n",
       "    <tr>\n",
       "      <th>count</th>\n",
       "      <td>1405.000000</td>\n",
       "    </tr>\n",
       "    <tr>\n",
       "      <th>mean</th>\n",
       "      <td>1.720285</td>\n",
       "    </tr>\n",
       "    <tr>\n",
       "      <th>std</th>\n",
       "      <td>2.218973</td>\n",
       "    </tr>\n",
       "    <tr>\n",
       "      <th>min</th>\n",
       "      <td>0.000000</td>\n",
       "    </tr>\n",
       "    <tr>\n",
       "      <th>25%</th>\n",
       "      <td>1.000000</td>\n",
       "    </tr>\n",
       "    <tr>\n",
       "      <th>50%</th>\n",
       "      <td>1.000000</td>\n",
       "    </tr>\n",
       "    <tr>\n",
       "      <th>75%</th>\n",
       "      <td>2.000000</td>\n",
       "    </tr>\n",
       "    <tr>\n",
       "      <th>max</th>\n",
       "      <td>46.000000</td>\n",
       "    </tr>\n",
       "  </tbody>\n",
       "</table>\n",
       "</div>"
      ],
      "text/plain": [
       "              입원기간\n",
       "count  1405.000000\n",
       "mean      1.720285\n",
       "std       2.218973\n",
       "min       0.000000\n",
       "25%       1.000000\n",
       "50%       1.000000\n",
       "75%       2.000000\n",
       "max      46.000000"
      ]
     },
     "execution_count": 6,
     "metadata": {},
     "output_type": "execute_result"
    }
   ],
   "source": [
    "df_ROS_job = df_ROS_SKY[['직업', '입원기간']].copy()\n",
    "df_ROS_job.describe() "
   ]
  },
  {
   "cell_type": "code",
   "execution_count": 7,
   "id": "864607c0-601b-4c26-8ed3-3399a6e0f364",
   "metadata": {
    "tags": []
   },
   "outputs": [],
   "source": [
    "df_ROS_job_pivot = pd.pivot_table(data=df_ROS_job, index='입원기간', columns='직업', aggfunc=len)"
   ]
  },
  {
   "cell_type": "code",
   "execution_count": 8,
   "id": "9aaa4c02-b99b-48c7-a55f-ace306aa0b24",
   "metadata": {
    "tags": []
   },
   "outputs": [
    {
     "data": {
      "text/plain": [
       "Chi2ContingencyResult(statistic=nan, pvalue=nan, dof=272, expected_freq=array([[nan, nan, nan, nan, nan, nan, nan, nan, nan, nan, nan, nan, nan,\n",
       "        nan, nan, nan, nan],\n",
       "       [nan, nan, nan, nan, nan, nan, nan, nan, nan, nan, nan, nan, nan,\n",
       "        nan, nan, nan, nan],\n",
       "       [nan, nan, nan, nan, nan, nan, nan, nan, nan, nan, nan, nan, nan,\n",
       "        nan, nan, nan, nan],\n",
       "       [nan, nan, nan, nan, nan, nan, nan, nan, nan, nan, nan, nan, nan,\n",
       "        nan, nan, nan, nan],\n",
       "       [nan, nan, nan, nan, nan, nan, nan, nan, nan, nan, nan, nan, nan,\n",
       "        nan, nan, nan, nan],\n",
       "       [nan, nan, nan, nan, nan, nan, nan, nan, nan, nan, nan, nan, nan,\n",
       "        nan, nan, nan, nan],\n",
       "       [nan, nan, nan, nan, nan, nan, nan, nan, nan, nan, nan, nan, nan,\n",
       "        nan, nan, nan, nan],\n",
       "       [nan, nan, nan, nan, nan, nan, nan, nan, nan, nan, nan, nan, nan,\n",
       "        nan, nan, nan, nan],\n",
       "       [nan, nan, nan, nan, nan, nan, nan, nan, nan, nan, nan, nan, nan,\n",
       "        nan, nan, nan, nan],\n",
       "       [nan, nan, nan, nan, nan, nan, nan, nan, nan, nan, nan, nan, nan,\n",
       "        nan, nan, nan, nan],\n",
       "       [nan, nan, nan, nan, nan, nan, nan, nan, nan, nan, nan, nan, nan,\n",
       "        nan, nan, nan, nan],\n",
       "       [nan, nan, nan, nan, nan, nan, nan, nan, nan, nan, nan, nan, nan,\n",
       "        nan, nan, nan, nan],\n",
       "       [nan, nan, nan, nan, nan, nan, nan, nan, nan, nan, nan, nan, nan,\n",
       "        nan, nan, nan, nan],\n",
       "       [nan, nan, nan, nan, nan, nan, nan, nan, nan, nan, nan, nan, nan,\n",
       "        nan, nan, nan, nan],\n",
       "       [nan, nan, nan, nan, nan, nan, nan, nan, nan, nan, nan, nan, nan,\n",
       "        nan, nan, nan, nan],\n",
       "       [nan, nan, nan, nan, nan, nan, nan, nan, nan, nan, nan, nan, nan,\n",
       "        nan, nan, nan, nan],\n",
       "       [nan, nan, nan, nan, nan, nan, nan, nan, nan, nan, nan, nan, nan,\n",
       "        nan, nan, nan, nan],\n",
       "       [nan, nan, nan, nan, nan, nan, nan, nan, nan, nan, nan, nan, nan,\n",
       "        nan, nan, nan, nan]]))"
      ]
     },
     "execution_count": 8,
     "metadata": {},
     "output_type": "execute_result"
    }
   ],
   "source": [
    "stats.chi2_contingency(observed=df_ROS_job_pivot, correction=True) "
   ]
  },
  {
   "cell_type": "code",
   "execution_count": null,
   "id": "4e50eba7-4f5c-4330-840b-6d168e3be27a",
   "metadata": {},
   "outputs": [],
   "source": []
  }
 ],
 "metadata": {
  "kernelspec": {
   "display_name": "Python 3 (ipykernel)",
   "language": "python",
   "name": "python3"
  },
  "language_info": {
   "codemirror_mode": {
    "name": "ipython",
    "version": 3
   },
   "file_extension": ".py",
   "mimetype": "text/x-python",
   "name": "python",
   "nbconvert_exporter": "python",
   "pygments_lexer": "ipython3",
   "version": "3.11.3"
  }
 },
 "nbformat": 4,
 "nbformat_minor": 5
}
