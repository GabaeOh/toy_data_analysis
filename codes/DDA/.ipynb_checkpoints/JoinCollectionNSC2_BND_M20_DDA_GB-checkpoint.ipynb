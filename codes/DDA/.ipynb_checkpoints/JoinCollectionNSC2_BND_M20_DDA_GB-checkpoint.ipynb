{
 "cells": [
  {
   "cell_type": "markdown",
   "id": "2c344f47-a536-4199-bb7b-163fc7d8e99a",
   "metadata": {},
   "source": [
    "## DDA 분석 \n",
    "'ED_RC_TOT_AMT','MCARE_SUBJ_CD','OPRTN_YN','MCARE_RSLT_TYPE','EDC_SBA','BTH_YYYY'\n",
    "- 목표 변수 : ED_RC_TOT_AMT(심결요양급여비용총액)\n",
    "- 설명변수 : 'MCARE_SUBJ_CD'(진료과목코드),'OPRTN_YN'(수술여부),'MCARE_RSLT_TYPE'(),'EDC_SBA','BTH_YYYY'"
   ]
  }
 ],
 "metadata": {
  "kernelspec": {
   "display_name": "Python 3 (ipykernel)",
   "language": "python",
   "name": "python3"
  },
  "language_info": {
   "codemirror_mode": {
    "name": "ipython",
    "version": 3
   },
   "file_extension": ".py",
   "mimetype": "text/x-python",
   "name": "python",
   "nbconvert_exporter": "python",
   "pygments_lexer": "ipython3",
   "version": "3.11.3"
  }
 },
 "nbformat": 4,
 "nbformat_minor": 5
}
