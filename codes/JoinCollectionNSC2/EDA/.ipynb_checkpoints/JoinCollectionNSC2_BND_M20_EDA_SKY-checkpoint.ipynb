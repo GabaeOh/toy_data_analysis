{
 "cells": [
  {
   "cell_type": "code",
   "execution_count": 1,
   "id": "f80600d0-1422-4ff0-baf7-976d1a88fd18",
   "metadata": {
    "tags": []
   },
   "outputs": [],
   "source": [
    "import matplotlib.pyplot as plt\n",
    "import matplotlib as mpl\n",
    "mpl.rc('font',family='Malgun Gothic')\n",
    "import seaborn as sns\n",
    "import pandas as pd"
   ]
  },
  {
   "cell_type": "markdown",
   "id": "f5e56392-0632-4a76-9e56-f6c63c3c94d5",
   "metadata": {
    "tags": []
   },
   "source": [
    "### 데이터 불러오기, null 값 삭제, 분석컬럼 추출, 연속형 -> 범주형으로 데이터 타입 변경"
   ]
  },
  {
   "cell_type": "code",
   "execution_count": 2,
   "id": "0aab1919-6408-4bc9-85ee-11aabad14db0",
   "metadata": {
    "tags": []
   },
   "outputs": [
    {
     "data": {
      "text/html": [
       "<div>\n",
       "<style scoped>\n",
       "    .dataframe tbody tr th:only-of-type {\n",
       "        vertical-align: middle;\n",
       "    }\n",
       "\n",
       "    .dataframe tbody tr th {\n",
       "        vertical-align: top;\n",
       "    }\n",
       "\n",
       "    .dataframe thead th {\n",
       "        text-align: right;\n",
       "    }\n",
       "</style>\n",
       "<table border=\"1\" class=\"dataframe\">\n",
       "  <thead>\n",
       "    <tr style=\"text-align: right;\">\n",
       "      <th></th>\n",
       "      <th>Unnamed: 0</th>\n",
       "      <th>ED_RC_TOT_AMT</th>\n",
       "      <th>MCARE_SUBJ_CD</th>\n",
       "      <th>OPRTN_YN</th>\n",
       "      <th>MCARE_RSLT_TYPE</th>\n",
       "      <th>EDC_SBA</th>\n",
       "      <th>BTH_YYYY</th>\n",
       "    </tr>\n",
       "  </thead>\n",
       "  <tbody>\n",
       "    <tr>\n",
       "      <th>0</th>\n",
       "      <td>0</td>\n",
       "      <td>7570</td>\n",
       "      <td>1</td>\n",
       "      <td>0</td>\n",
       "      <td>5.0</td>\n",
       "      <td>3000</td>\n",
       "      <td>1921LE</td>\n",
       "    </tr>\n",
       "    <tr>\n",
       "      <th>1</th>\n",
       "      <td>1</td>\n",
       "      <td>18160</td>\n",
       "      <td>1</td>\n",
       "      <td>0</td>\n",
       "      <td>5.0</td>\n",
       "      <td>6000</td>\n",
       "      <td>1921LE</td>\n",
       "    </tr>\n",
       "  </tbody>\n",
       "</table>\n",
       "</div>"
      ],
      "text/plain": [
       "   Unnamed: 0  ED_RC_TOT_AMT  MCARE_SUBJ_CD  OPRTN_YN  MCARE_RSLT_TYPE  \\\n",
       "0           0           7570              1         0              5.0   \n",
       "1           1          18160              1         0              5.0   \n",
       "\n",
       "   EDC_SBA BTH_YYYY  \n",
       "0     3000   1921LE  \n",
       "1     6000   1921LE  "
      ]
     },
     "execution_count": 2,
     "metadata": {},
     "output_type": "execute_result"
    }
   ],
   "source": [
    "df_JCN = pd.read_csv('../../../dataset/Join Collection NSC2_BND_M20.csv')\n",
    "df_JCN.head(2)"
   ]
  },
  {
   "cell_type": "code",
   "execution_count": 9,
   "id": "eccc9754-065a-4873-923f-e48bf0bf2ada",
   "metadata": {
    "tags": []
   },
   "outputs": [],
   "source": [
    "df_JCN = df_JCN.dropna()"
   ]
  },
  {
   "cell_type": "code",
   "execution_count": 10,
   "id": "c4985fac-bf19-4e36-831e-6e3431c3afa2",
   "metadata": {
    "tags": []
   },
   "outputs": [
    {
     "data": {
      "text/plain": [
       "Unnamed: 0         0\n",
       "ED_RC_TOT_AMT      0\n",
       "MCARE_SUBJ_CD      0\n",
       "OPRTN_YN           0\n",
       "MCARE_RSLT_TYPE    0\n",
       "EDC_SBA            0\n",
       "BTH_YYYY           0\n",
       "dtype: int64"
      ]
     },
     "execution_count": 10,
     "metadata": {},
     "output_type": "execute_result"
    }
   ],
   "source": [
    "df_JCN.isnull().sum()"
   ]
  },
  {
   "cell_type": "code",
   "execution_count": 11,
   "id": "3a95fca1-d7f0-4edc-8f13-081a49e3889d",
   "metadata": {
    "tags": []
   },
   "outputs": [
    {
     "data": {
      "text/html": [
       "<div>\n",
       "<style scoped>\n",
       "    .dataframe tbody tr th:only-of-type {\n",
       "        vertical-align: middle;\n",
       "    }\n",
       "\n",
       "    .dataframe tbody tr th {\n",
       "        vertical-align: top;\n",
       "    }\n",
       "\n",
       "    .dataframe thead th {\n",
       "        text-align: right;\n",
       "    }\n",
       "</style>\n",
       "<table border=\"1\" class=\"dataframe\">\n",
       "  <thead>\n",
       "    <tr style=\"text-align: right;\">\n",
       "      <th></th>\n",
       "      <th>ED_RC_TOT_AMT</th>\n",
       "      <th>MCARE_SUBJ_CD</th>\n",
       "      <th>OPRTN_YN</th>\n",
       "      <th>MCARE_RSLT_TYPE</th>\n",
       "    </tr>\n",
       "  </thead>\n",
       "  <tbody>\n",
       "    <tr>\n",
       "      <th>0</th>\n",
       "      <td>7570</td>\n",
       "      <td>1</td>\n",
       "      <td>0</td>\n",
       "      <td>5.0</td>\n",
       "    </tr>\n",
       "    <tr>\n",
       "      <th>1</th>\n",
       "      <td>18160</td>\n",
       "      <td>1</td>\n",
       "      <td>0</td>\n",
       "      <td>5.0</td>\n",
       "    </tr>\n",
       "  </tbody>\n",
       "</table>\n",
       "</div>"
      ],
      "text/plain": [
       "   ED_RC_TOT_AMT  MCARE_SUBJ_CD  OPRTN_YN  MCARE_RSLT_TYPE\n",
       "0           7570              1         0              5.0\n",
       "1          18160              1         0              5.0"
      ]
     },
     "execution_count": 11,
     "metadata": {},
     "output_type": "execute_result"
    }
   ],
   "source": [
    "df_JCN_SKY = df_JCN[['ED_RC_TOT_AMT','MCARE_SUBJ_CD','OPRTN_YN','MCARE_RSLT_TYPE']]\n",
    "df_JCN_SKY[:2]"
   ]
  },
  {
   "cell_type": "code",
   "execution_count": 12,
   "id": "9d740b32-56ff-4d25-8125-dd546bb442df",
   "metadata": {
    "tags": []
   },
   "outputs": [
    {
     "name": "stdout",
     "output_type": "stream",
     "text": [
      "<class 'pandas.core.frame.DataFrame'>\n",
      "Int64Index: 4205 entries, 0 to 4628\n",
      "Data columns (total 4 columns):\n",
      " #   Column           Non-Null Count  Dtype  \n",
      "---  ------           --------------  -----  \n",
      " 0   ED_RC_TOT_AMT    4205 non-null   int64  \n",
      " 1   MCARE_SUBJ_CD    4205 non-null   int64  \n",
      " 2   OPRTN_YN         4205 non-null   int64  \n",
      " 3   MCARE_RSLT_TYPE  4205 non-null   float64\n",
      "dtypes: float64(1), int64(3)\n",
      "memory usage: 164.3 KB\n"
     ]
    }
   ],
   "source": [
    "df_JCN_SKY.info()"
   ]
  },
  {
   "cell_type": "code",
   "execution_count": 13,
   "id": "19dd3b7b-9587-43b9-b936-3dd884dd06ad",
   "metadata": {
    "tags": []
   },
   "outputs": [
    {
     "name": "stderr",
     "output_type": "stream",
     "text": [
      "C:\\Users\\01-09\\AppData\\Local\\Temp\\ipykernel_2944\\2275312239.py:1: SettingWithCopyWarning: \n",
      "A value is trying to be set on a copy of a slice from a DataFrame.\n",
      "Try using .loc[row_indexer,col_indexer] = value instead\n",
      "\n",
      "See the caveats in the documentation: https://pandas.pydata.org/pandas-docs/stable/user_guide/indexing.html#returning-a-view-versus-a-copy\n",
      "  df_JCN_SKY[['MCARE_SUBJ_CD','OPRTN_YN','MCARE_RSLT_TYPE']] = df_JCN_SKY[['MCARE_SUBJ_CD','OPRTN_YN','MCARE_RSLT_TYPE']].astype(str)\n"
     ]
    }
   ],
   "source": [
    "df_JCN_SKY[['MCARE_SUBJ_CD','OPRTN_YN','MCARE_RSLT_TYPE']] = df_JCN_SKY[['MCARE_SUBJ_CD','OPRTN_YN','MCARE_RSLT_TYPE']].astype(str)"
   ]
  },
  {
   "cell_type": "code",
   "execution_count": 14,
   "id": "44d7f5fe-0cb1-4a41-8eeb-cd000cdbf68d",
   "metadata": {
    "tags": []
   },
   "outputs": [
    {
     "name": "stdout",
     "output_type": "stream",
     "text": [
      "<class 'pandas.core.frame.DataFrame'>\n",
      "Int64Index: 4205 entries, 0 to 4628\n",
      "Data columns (total 4 columns):\n",
      " #   Column           Non-Null Count  Dtype \n",
      "---  ------           --------------  ----- \n",
      " 0   ED_RC_TOT_AMT    4205 non-null   int64 \n",
      " 1   MCARE_SUBJ_CD    4205 non-null   object\n",
      " 2   OPRTN_YN         4205 non-null   object\n",
      " 3   MCARE_RSLT_TYPE  4205 non-null   object\n",
      "dtypes: int64(1), object(3)\n",
      "memory usage: 164.3+ KB\n"
     ]
    }
   ],
   "source": [
    "df_JCN_SKY.info()"
   ]
  },
  {
   "cell_type": "markdown",
   "id": "a183bf15-8b71-46f7-9a0c-d1f3abb531cc",
   "metadata": {
    "tags": []
   },
   "source": [
    "## 상관관계 확인\n",
    "- 목표변수 : ED_RC_TOT_AMT(요양급여비용총액)\n",
    "  - 연속형일 경우 : 정규화 확인\n",
    "  - 범주형일 경우 : 밸런스 여부 확인\n",
    "  \n",
    "- 설명 변수 :\n",
    "  - 'MCARE_SUBJ_CD(진료과목코드)' : '사무직','무직','자영업'을 가진 직업군이 입원기간이 상대적으로 길다.  \n",
    "  - 'OPRTN_YN(수술여부)' : 당뇨를 가지고 있는 환자의 입원기간이 상대적으로 길다.\n",
    "  - 'MCARE_RSLT_TYPE(진료결과구분)' : 심혈관질을 가지고 있는 환자는 입원기간이 상대적으로 길다.\n",
    "\n",
    "- 분석 story : "
   ]
  },
  {
   "cell_type": "code",
   "execution_count": 17,
   "id": "487d7b7b-f86e-424b-8f5a-3936353d6df2",
   "metadata": {
    "tags": []
   },
   "outputs": [
    {
     "data": {
      "image/png": "[encoded data removed]",
      "text/plain": [
       "<Figure size 640x480 with 1 Axes>"
      ]
     },
     "metadata": {},
     "output_type": "display_data"
    }
   ],
   "source": [
    "sns.countplot(data=df_JCN_SKY, x='ED_RC_TOT_AMT')\n",
    "plt.show()"
   ]
  },
  {
   "cell_type": "markdown",
   "id": "9ee16bad-79fc-4961-92d6-125cd2aac6ef",
   "metadata": {},
   "source": [
    "### X: 범주형 / Y : 연속형"
   ]
  },
  {
   "cell_type": "code",
   "execution_count": 18,
   "id": "63178abb-c6f5-40ce-97b6-81d29b7c890e",
   "metadata": {
    "tags": []
   },
   "outputs": [
    {
     "data": {
      "text/plain": [
       "['MCARE_SUBJ_CD', 'OPRTN_YN', 'MCARE_RSLT_TYPE']"
      ]
     },
     "execution_count": 18,
     "metadata": {},
     "output_type": "execute_result"
    }
   ],
   "source": [
    "forpatient_object_list= df_JCN_SKY.describe(include=object).columns.to_list()\n",
    "forpatient_object_list"
   ]
  },
  {
   "cell_type": "code",
   "execution_count": 19,
   "id": "eebd7e49-881b-4d71-837d-72f70714f65d",
   "metadata": {
    "tags": []
   },
   "outputs": [
    {
     "data": {
      "image/png": "[encoded data removed]",
      "text/plain": [
       "<Figure size 640x480 with 1 Axes>"
      ]
     },
     "metadata": {},
     "output_type": "display_data"
    },
    {
     "data": {
      "image/png": "[encoded data removed]",
      "text/plain": [
       "<Figure size 640x480 with 1 Axes>"
      ]
     },
     "metadata": {},
     "output_type": "display_data"
    },
    {
     "data": {
      "image/png": "[encoded data removed]",
      "text/plain": [
       "<Figure size 640x480 with 1 Axes>"
      ]
     },
     "metadata": {},
     "output_type": "display_data"
    }
   ],
   "source": [
    "for item in forpatient_object_list :\n",
    "    sns.barplot(data=df_JCN_SKY, x=item, y='ED_RC_TOT_AMT')\n",
    "    plt.show()"
   ]
  },
  {
   "cell_type": "markdown",
   "id": "ada8cd2c-4430-45d2-8e6c-857491555c30",
   "metadata": {},
   "source": [
    "### 요양급여비용총액이 높은 진료과목코드 TOP3 뽑아내기"
   ]
  },
  {
   "cell_type": "code",
   "execution_count": 20,
   "id": "779a64fd-fdb0-4b7e-8ce4-dd0f51a8d014",
   "metadata": {
    "tags": []
   },
   "outputs": [
    {
     "data": {
      "text/plain": [
       "['1', '23', '5']"
      ]
     },
     "execution_count": 20,
     "metadata": {},
     "output_type": "execute_result"
    }
   ],
   "source": [
    "df_JCN_SKY_top = pd.pivot_table(data=df_JCN_SKY, index='MCARE_SUBJ_CD', values='ED_RC_TOT_AMT', aggfunc='sum' ) #총합으로 요약\n",
    "df_JCN_SKY_top_list = df_JCN_SKY_top .sort_values(by='ED_RC_TOT_AMT', ascending=False).iloc[:3].index.to_list()\n",
    "df_JCN_SKY_top_list"
   ]
  },
  {
   "cell_type": "code",
   "execution_count": 21,
   "id": "f751b851-cb8c-4737-a022-e1af180a7c20",
   "metadata": {
    "tags": []
   },
   "outputs": [
    {
     "data": {
      "image/png": "[encoded data removed]",
      "text/plain": [
       "<Figure size 640x480 with 1 Axes>"
      ]
     },
     "metadata": {},
     "output_type": "display_data"
    }
   ],
   "source": [
    "sns.barplot(data=df_JCN_SKY, x='MCARE_SUBJ_CD', y='ED_RC_TOT_AMT', estimator=sum, order=df_JCN_SKY_top_list) \n",
    "plt.show()\n",
    "\n",
    "# 1= 내과, 23 = 가정의학과, 5 = 정형외과"
   ]
  }
 ],
 "metadata": {
  "kernelspec": {
   "display_name": "Python 3 (ipykernel)",
   "language": "python",
   "name": "python3"
  },
  "language_info": {
   "codemirror_mode": {
    "name": "ipython",
    "version": 3
   },
   "file_extension": ".py",
   "mimetype": "text/x-python",
   "name": "python",
   "nbconvert_exporter": "python",
   "pygments_lexer": "ipython3",
   "version": "3.11.3"
  }
 },
 "nbformat": 4,
 "nbformat_minor": 5
}
